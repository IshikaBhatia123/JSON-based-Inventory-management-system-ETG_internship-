{
  "nbformat": 4,
  "nbformat_minor": 0,
  "metadata": {
    "colab": {
      "name": "IMS_ETG (purchase and sale).ipynb",
      "provenance": []
    },
    "kernelspec": {
      "name": "python3",
      "display_name": "Python 3"
    },
    "language_info": {
      "name": "python"
    }
  },
  "cells": [
    {
      "cell_type": "markdown",
      "metadata": {
        "id": "VMRVxf9xRwQq"
      },
      "source": [
        "**Read inventory** \n",
        "\n"
      ]
    },
    {
      "cell_type": "code",
      "metadata": {
        "id": "EFBPMdLIkcjP"
      },
      "source": [
        "import json\n",
        "\n",
        "fd = open(\"records.json\",'r')\n",
        "r = fd.read()\n",
        "fd.close()\n",
        "\n",
        "records = json.loads(r)"
      ],
      "execution_count": 32,
      "outputs": []
    },
    {
      "cell_type": "markdown",
      "metadata": {
        "id": "M0xTzWXXTHrw"
      },
      "source": [
        "**Create new sales file**"
      ]
    },
    {
      "cell_type": "code",
      "metadata": {
        "id": "wkrUipu7DoCC"
      },
      "source": [
        "sales={}\n",
        "js1 = json.dumps(sales)\n",
        "fd = open(\"sales.json\",'w')\n",
        "fd.write(js1)\n",
        "fd.close()"
      ],
      "execution_count": 29,
      "outputs": []
    },
    {
      "cell_type": "code",
      "metadata": {
        "id": "rWYOgU-6Nwe-"
      },
      "source": [
        "import time"
      ],
      "execution_count": 33,
      "outputs": []
    },
    {
      "cell_type": "markdown",
      "metadata": {
        "id": "ZAq676BtSLxV"
      },
      "source": [
        "**Purchase product**"
      ]
    },
    {
      "cell_type": "code",
      "metadata": {
        "colab": {
          "base_uri": "https://localhost:8080/"
        },
        "id": "CY1r8sfPKfHs",
        "outputId": "65a9558c-2e28-4dba-a3ce-c98f5bed1a48"
      },
      "source": [
        "ui_prod  = input(\"Enter the product_Id:\\t \")\n",
        "if(ui_prod in records): \n",
        "  ui_quant = int(input(\"Enter the quantity:\\t \"))\n",
        "  if (ui_quant < int (records[ui_prod][\"Qty\"])):\n",
        "   cust= input(\"Enter the name of customer: \\t\")\n",
        "   print(\"\\nThe bill is generating..........\\n\")\n",
        "   print(\"\\t'''WELCOME TO BEAUTY AND HYGIENE DEPARTMENTAL STORE'''\")\n",
        "   print(\"\\t*****************************************************\\n\")\n",
        "   print(\"Name : \" + cust )\n",
        "   pur_date= time.ctime()\n",
        "   print(\"Date: \",pur_date)\n",
        "   print(\"\\n\\tNAME\\t\\t\\tPRICE\\t\\tQTY\")\n",
        "   print(\"\\t=================================================\")\n",
        "   print(\"\\t\" + records[ui_prod][\"Product\"] + \"\\t\" + records[ui_prod][\"Price\"]+ \"\\t\"+ \"\\t\" + str(ui_quant))\n",
        "   print(\"\\n\\t=================================================\")\n",
        "   total=float (records[ui_prod][\"Price\"]) * int (ui_quant)\n",
        "\n",
        "   print(\"\\n\\tTotal Amount:\\t\\t\\t\\t\",float (total))\n",
        "\n",
        "   print(\"\\n\\tDiscount :\\t\\t\\t\\t 5%\")\n",
        "\n",
        "   discount= 0.05*total\n",
        "   print(\"\\tPayable Amount: \\t\\t\\t\", total-discount)\n",
        "   print(\"\\n\\t*****************************************************\")\n",
        "   print(\"\\t*****************************************************\\n\")\n",
        "   print(\"\\t\\tTHANKS FOR SHOPPING...VISIT AGAIN!!!\")\n",
        "  else:\n",
        "    print(\"Sorry, That much quantity not available\")\n",
        "else:\n",
        "  print(\"Invalid Id\")\n"
      ],
      "execution_count": 69,
      "outputs": [
        {
          "output_type": "stream",
          "name": "stdout",
          "text": [
            "Enter the product_Id:\t 1015\n",
            "Enter the quantity:\t 2\n",
            "Enter the name of customer: \tnisha\n",
            "\n",
            "The bill is generating..........\n",
            "\n",
            "\t'''WELCOME TO BEAUTY AND HYGIENE DEPARTMENTAL STORE'''\n",
            "\t*****************************************************\n",
            "\n",
            "Name : nisha\n",
            "Date:  Sun Sep  5 18:27:53 2021\n",
            "\n",
            "\tNAME\t\t\tPRICE\t\tQTY\n",
            "\t=================================================\n",
            "\tlakme Eyeconic kajal\t201\t\t2\n",
            "\n",
            "\t=================================================\n",
            "\n",
            "\tTotal Amount:\t\t\t\t 402.0\n",
            "\n",
            "\tDiscount :\t\t\t\t 5%\n",
            "\tPayable Amount: \t\t\t 381.9\n",
            "\n",
            "\t*****************************************************\n",
            "\t*****************************************************\n",
            "\n",
            "\t\tTHANKS FOR SHOPPING...VISIT AGAIN!!!\n"
          ]
        }
      ]
    },
    {
      "cell_type": "markdown",
      "metadata": {
        "id": "5vEBZekcSZCO"
      },
      "source": [
        "**Update quantity**"
      ]
    },
    {
      "cell_type": "code",
      "metadata": {
        "id": "Rwa71GCIKfMv"
      },
      "source": [
        "records[ui_prod][\"Qty\"] = str (int (records[ui_prod][\"Qty\"]) - ui_quant)\n",
        "js= json.dumps(records)\n",
        "fd = open(\"records.json\",'w')\n",
        "fd.write(js)\n",
        "fd.close()"
      ],
      "execution_count": 70,
      "outputs": []
    },
    {
      "cell_type": "markdown",
      "metadata": {
        "id": "rv9nyDYaTSmx"
      },
      "source": [
        "**Update transactions in sales file**"
      ]
    },
    {
      "cell_type": "code",
      "metadata": {
        "id": "Bzxtu5J1NcGy"
      },
      "source": [
        "fd = open(\"sales.json\",'r')\n",
        "r1 = fd.read()\n",
        "fd.close()\n",
        "\n",
        "sales = json.loads(r1)\n",
        "sales[str(len(sales)+1)] ={'Transaction':{'Customer name': cust ,'product' : records[ui_prod][\"Product\"], 'qnty' : ui_quant, 'amount': total-discount , 'date_time':pur_date }}\n",
        "js1 = json.dumps(sales)\n",
        "fd = open(\"sales.json\",'w')\n",
        "fd.write(js1)\n",
        "fd.close()"
      ],
      "execution_count": 73,
      "outputs": []
    },
    {
      "cell_type": "code",
      "metadata": {
        "id": "5L3T8AVdKfZp",
        "colab": {
          "base_uri": "https://localhost:8080/"
        },
        "outputId": "948a5484-64c6-4328-acc8-6f94cbd09460"
      },
      "source": [
        "sales"
      ],
      "execution_count": 76,
      "outputs": [
        {
          "output_type": "execute_result",
          "data": {
            "text/plain": [
              "{'1': {'Transaction': {'Customer name': 'ishika',\n",
              "   'amount': 596.6,\n",
              "   'date_time': 'Sun Sep  5 18:19:09 2021',\n",
              "   'product': 'Vaseline Body Lotion',\n",
              "   'qnty': 2}},\n",
              " '10': {'Transaction': {'Customer name': 'nisha',\n",
              "   'amount': 381.9,\n",
              "   'date_time': 'Sun Sep  5 18:27:53 2021',\n",
              "   'product': 'lakme Eyeconic kajal',\n",
              "   'qnty': 2}},\n",
              " '2': {'Transaction': {'Customer name': 'harsh',\n",
              "   'amount': 627.0,\n",
              "   'date_time': 'Sun Sep  5 18:20:41 2021',\n",
              "   'product': 'Maybelline kajal',\n",
              "   'qnty': 3}},\n",
              " '3': {'Transaction': {'Customer name': 'kriti',\n",
              "   'amount': 216.6,\n",
              "   'date_time': 'Sun Sep  5 18:21:27 2021',\n",
              "   'product': 'Colgate Toothpaste ',\n",
              "   'qnty': 2}},\n",
              " '4': {'Transaction': {'Customer name': 'neha',\n",
              "   'amount': 1820.2,\n",
              "   'date_time': 'Sun Sep  5 18:21:55 2021',\n",
              "   'product': 'Dove keratin Shampoo',\n",
              "   'qnty': 4}},\n",
              " '5': {'Transaction': {'Customer name': 'sakshi',\n",
              "   'amount': 140.6,\n",
              "   'date_time': 'Sun Sep  5 18:22:47 2021',\n",
              "   'product': 'Hand Sanitizer   ',\n",
              "   'qnty': 1}},\n",
              " '6': {'Transaction': {'Customer name': 'riddhi',\n",
              "   'amount': 381.9,\n",
              "   'date_time': 'Sun Sep  5 18:23:24 2021',\n",
              "   'product': 'lakme Eyeconic kajal',\n",
              "   'qnty': 2}},\n",
              " '7': {'Transaction': {'Customer name': 'aayu',\n",
              "   'amount': 475.0,\n",
              "   'date_time': 'Sun Sep  5 18:24:21 2021',\n",
              "   'product': 'Neutrogena Sunscreen ',\n",
              "   'qnty': 2}},\n",
              " '8': {'Transaction': {'Customer name': 'samaira',\n",
              "   'amount': 1501.95,\n",
              "   'date_time': 'Sun Sep  5 18:25:06 2021',\n",
              "   'product': \"L'oreal hair colour\",\n",
              "   'qnty': 3}},\n",
              " '9': {'Transaction': {'Customer name': 'pihu',\n",
              "   'amount': 227.05,\n",
              "   'date_time': 'Sun Sep  5 18:26:48 2021',\n",
              "   'product': 'Maybelline fitme',\n",
              "   'qnty': 1}}}"
            ]
          },
          "metadata": {},
          "execution_count": 76
        }
      ]
    }
  ]
}