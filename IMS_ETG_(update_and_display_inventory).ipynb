{
  "nbformat": 4,
  "nbformat_minor": 0,
  "metadata": {
    "colab": {
      "name": "IMS_ETG  (update and display inventory).ipynb",
      "provenance": []
    },
    "kernelspec": {
      "name": "python3",
      "display_name": "Python 3"
    },
    "language_info": {
      "name": "python"
    }
  },
  "cells": [
    {
      "cell_type": "code",
      "metadata": {
        "id": "8uIxU6Y5gvmy"
      },
      "source": [
        "import json\n",
        "fd = open(\"records.json\",'r')\n",
        "r = fd.read()\n",
        "fd.close()\n",
        "\n",
        "records = json.loads(r)"
      ],
      "execution_count": 1,
      "outputs": []
    },
    {
      "cell_type": "markdown",
      "metadata": {
        "id": "dm6OA3a8IciJ"
      },
      "source": [
        "***Add product in the inventory***\n",
        "\n",
        "\n",
        "\n"
      ]
    },
    {
      "cell_type": "code",
      "metadata": {
        "id": "kgQRaHbUHs0k",
        "colab": {
          "base_uri": "https://localhost:8080/"
        },
        "outputId": "836ba27f-8302-4d29-b1ed-5490af61b4bf"
      },
      "source": [
        "prod_id = input(\"Enter product id:\")\n",
        "if (prod_id in records):\n",
        "  qn = input(\"Enter quantity:\")\n",
        "  records[prod_id][\"Qty\"]=int (records[prod_id][\"Qty\"]) + int (qn)\n",
        "  records[prod_id][\"Qty\"]= str ( records[prod_id][\"Qty\"])\n",
        "  js = json.dumps(records)\n",
        "  fd = open(\"records.json\",'w')\n",
        "  fd.write(js)\n",
        "  fd.close()\n",
        "  print(\"\\n**************************************************\\n\")\n",
        "  print(\"Item with product id \" + prod_id + \" already exist and the quantity is updated!!!\")\n",
        "else:\n",
        "  name = input(\"Enter name of the product:\")\n",
        "  pr = input(\"Enter price:\")\n",
        "  pk_size = input(\"Enter pack size:\")\n",
        "  exp = input(\"Enter expiry date:\")\n",
        "  qn = input(\"Enter quantity:\")\n",
        "  records[prod_id] = {'Product': name, 'Price': pr, 'Qty': qn , 'Pack size': pk_size, 'Exp date': exp}\n",
        "  js = json.dumps(records)\n",
        "  fd = open(\"records.json\",'w')\n",
        "  fd.write(js)\n",
        "  fd.close()\n",
        "  print(\"\\n**************************************************\\n\")\n",
        "  print(\"Item with product id \" + prod_id + \" is added successfully!!!\")\n"
      ],
      "execution_count": null,
      "outputs": [
        {
          "output_type": "stream",
          "name": "stdout",
          "text": [
            "Enter product id:1030\n",
            "Enter name of the product:Clean n clear facewash\n",
            "Enter price:90\n",
            "Enter pack size:100 ml\n",
            "Enter expiry date:22-07-2027\n",
            "Enter quantity:80\n",
            "\n",
            "**************************************************\n",
            "\n",
            "Item with product id 1030 is added successfully!!!\n"
          ]
        }
      ]
    },
    {
      "cell_type": "markdown",
      "metadata": {
        "id": "31XSHEJWjYgY"
      },
      "source": [
        "***Delete product from the inventory***"
      ]
    },
    {
      "cell_type": "code",
      "metadata": {
        "id": "xcXTLrreC7dE",
        "colab": {
          "base_uri": "https://localhost:8080/"
        },
        "outputId": "82623377-106e-4ef7-92bf-85a809fb5da9"
      },
      "source": [
        "delete=input(\"Enter product id to delete:\\t\")\n",
        "del records[delete]\n",
        "js = json.dumps(records)\n",
        "\n",
        "fd = open(\"records.json\",'w')\n",
        "fd.write(js)\n",
        "fd.close()\n",
        "print(\"Item with product id \" + prod_id + \" is removed from the stock !!!\")\n",
        "\n"
      ],
      "execution_count": null,
      "outputs": [
        {
          "output_type": "stream",
          "name": "stdout",
          "text": [
            "Enter product id to delete:\t1029\n",
            "Item with product id 1029 is removed from the stock !!!\n"
          ]
        }
      ]
    },
    {
      "cell_type": "markdown",
      "metadata": {
        "id": "0l7f-7KrjjBV"
      },
      "source": [
        "***Display stock*** "
      ]
    },
    {
      "cell_type": "code",
      "metadata": {
        "id": "l2GlWUq_LdCx",
        "colab": {
          "base_uri": "https://localhost:8080/"
        },
        "outputId": "85ce4acb-8d77-43c4-efb2-7e363a991e57"
      },
      "source": [
        "fd = open(\"records.json\",'r')\n",
        "r = fd.read()\n",
        "fd.close()\n",
        "records = json.loads(r)\n",
        "print(\"\\tId\\t\\tNAME\\t\\t\\tPRICE\\tQTY\\tPKG SIZE\\tEXPIRY DATE \")\n",
        "print(\"\\t====================================================================================\\n\")\n",
        "for i in records:\n",
        "    print(\"\\t\" + str (i) + \"\\t\" + records[i][\"Product\"] + \"\\t\"+ \"\\t\" + records[i][\"Price\"] + \"\\t\" + records[i][\"Qty\"] + \"\\t\" + records[i][\"Pack size\"]+ \"\\t\" + \"\\t\" + records[i][\"Exp date\"] )\n"
      ],
      "execution_count": 2,
      "outputs": [
        {
          "output_type": "stream",
          "name": "stdout",
          "text": [
            "\tId\t\tNAME\t\t\tPRICE\tQTY\tPKG SIZE\tEXPIRY DATE \n",
            "\t====================================================================================\n",
            "\n",
            "\t1001\tHimalaya Neem facewash\t\t261\t150\t200 ml\t\t23-08-2024\n",
            "\t1002\tVaseline Body Lotion\t\t314\t200\t600 ml\t\t23-05-2023\n",
            "\t1003\tDettol handwash    \t\t105\t400\t750 ml\t\t21-04-2025\n",
            "\t1004\tNivea Moisturizer \t\t273\t100\t147 g\t\t23-02-2025\n",
            "\t1005\tMaybelline kajal\t\t220\t120\t1\t\t25-08-2022\n",
            "\t1006\tColgate Toothpaste \t\t114\t100\t500 g\t\t13-08-2025\n",
            "\t1007\tElle matte lipstick\t\t128\t50\t2\t\t13-08-2023\n",
            "\t1008\tPure coconut Oil \t\t229\t70\t600 ml\t\t22-07-2023\n",
            "\t1009\tDove keratin Shampoo\t\t479\t30\t1 ltr\t\t23-08-2022\n",
            "\t1010\tHand Sanitizer   \t\t148\t50\t100 ml\t\t26-32-2024\n",
            "\t1011\tL'oreal hair colour\t\t527\t50\t172 g\t\t23-08-2023\n",
            "\t1012\tSunsilk shampoo \t\t412\t40\t1 ltr\t\t15-06-2024\n",
            "\t1013\tNivea deodrant   \t\t166\t20\t50 ml\t\t12-05-2023\n",
            "\t1014\tListerine Mouthwash\t\t240\t100\t200 ml\t\t23-08-2025\n",
            "\t1015\tlakme Eyeconic kajal\t\t201\t53\t1\t\t23-08-2023\n",
            "\t1016\tlakme black eyeliner\t\t225\t90\t4.5 ml\t\t23-09-2025\n",
            "\t1017\tMaybelline fitme\t\t239\t40\t18 ml\t\t03-10-2023\n",
            "\t1018\tLux Rose Soap   \t\t40\t35\t150 g\t\t23-11-2024\n",
            "\t1019\tMinimalist vitC serum\t\t664\t40\t30 ml\t\t18-08-2023\n",
            "\t1020\tNeutrogena Sunscreen \t\t250\t60\t30 ml\t\t23-08-2021\n",
            "\t1021\tDettol disinfectant liq\t\t301\t50\t1 ltr\t\t01-06-2023\n",
            "\t1022\tSensodyne toothpaste\t\t170\t60\t70 g\t\t03-12-2025\n",
            "\t1023\tAlmond drops hair oil\t\t252\t60\t500 ml\t\t23-06-2026\n",
            "\t1024\tTresemme hair shampoo\t\t150\t67\t180 ml\t\t2-04-2027\n",
            "\t1025\tVega paddle brush\t\t270\t70\t1\t\t-\n",
            "\t1026\tWhisper sanitary pads\t\t40\t50\t6\t\t23-08-2022\n",
            "\t1027\tElle nailpaint pink\t\t97\t70\t600 ml\t\t04-02-2027\n",
            "\t1028\tLakme foundation\t\t114\t100\t27 ml\t\t08-07-2027\n",
            "\t1029\tMamaearth bodywash\t\t260\t50\t200 ml\t\t23-07-2028\n",
            "\t1030\tClean n clear facewash\t\t90\t80\t100 ml\t\t22-07-2027\n"
          ]
        }
      ]
    }
  ]
}